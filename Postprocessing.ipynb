{
 "cells": [
  {
   "cell_type": "code",
   "execution_count": 1,
   "id": "60ba1405",
   "metadata": {},
   "outputs": [],
   "source": [
    "import random\n",
    "import pandas as pd\n",
    "from sklearn.cluster import DBSCAN"
   ]
  },
  {
   "cell_type": "code",
   "execution_count": 3,
   "id": "05494ee1",
   "metadata": {},
   "outputs": [],
   "source": [
    "df = pd.read_csv('equation1_GA_Local_domain.csv')\n",
    "df_1 = df.query(\"label==1\")[['x', 'y']]\n",
    "arr = df_1.to_numpy()\n",
    "clusters = DBSCAN(n_jobs=-1)\n",
    "clusters.fit(arr)\n",
    "labels = list(clusters.labels_)\n",
    "list_of_label_index = []\n",
    "for la in range(clusters.labels_.max() + 1):\n",
    "    indices = [i for i, x in enumerate(labels) if x == la]\n",
    "    list_of_label_index.append(indices)"
   ]
  },
  {
   "cell_type": "code",
   "execution_count": 4,
   "id": "a40ea786",
   "metadata": {},
   "outputs": [],
   "source": [
    "def final_test_data(test_df):\n",
    "    test_df.to_csv(\"eq1_testsuite_AMANDA.csv\", index=False, mode='a')"
   ]
  },
  {
   "cell_type": "code",
   "execution_count": 7,
   "id": "d234d012",
   "metadata": {},
   "outputs": [],
   "source": [
    "for li in range(len(list_of_label_index)):\n",
    "    selection = random.sample(list_of_label_index[li], 1)\n",
    "    test_df = df_1.iloc[selection]\n",
    "    final_test_data(test_df)"
   ]
  }
 ],
 "metadata": {
  "kernelspec": {
   "display_name": "Python 3 (ipykernel)",
   "language": "python",
   "name": "python3"
  },
  "language_info": {
   "codemirror_mode": {
    "name": "ipython",
    "version": 3
   },
   "file_extension": ".py",
   "mimetype": "text/x-python",
   "name": "python",
   "nbconvert_exporter": "python",
   "pygments_lexer": "ipython3",
   "version": "3.10.0"
  }
 },
 "nbformat": 4,
 "nbformat_minor": 5
}
