{
 "cells": [
  {
   "cell_type": "markdown",
   "id": "6d695d7e",
   "metadata": {},
   "source": [
    "# Evaluation measurements for a domain-oriented test suite"
   ]
  },
  {
   "cell_type": "markdown",
   "id": "ac73c59e",
   "metadata": {},
   "source": [
    "Efficiency: We define efficiency criterion as the ability to discover the performance boundaries in the fewest number of samples to the SUT. This is important given the limited number of samples available to characterize realistic, high-dimensional state spaces. We measure efficiency using the following metrics:\n",
    "\n",
    "Precision - The percentage of samples which are withing D of performance boundaries.\n",
    "\n",
    "convergence - The amount of queries necessary to acquire samples on all performance boundaries.\n",
    "\n",
    "Resolution - The distance of the samples from the nearest performance boundary."
   ]
  },
  {
   "cell_type": "code",
   "execution_count": 1,
   "id": "6948a120",
   "metadata": {},
   "outputs": [],
   "source": [
    "def select_boundry_points(delta, test_suite_performance_modes, test_suite_performance_boundaries_distances, candidate_performance_mode):\n",
    "    fitness_call_no = len(test_suite_performance_boundaries_distances)\n",
    "    selected_index = [ind for ind, x in enumerate(test_suite_performance_modes) if x == candidate_performance_mode]\n",
    "    boundry_points = [x for ind, x in enumerate(test_suite_performance_boundaries_distances) if x <= delta and\n",
    "                     ind in selected_index]\n",
    "    return boundry_points, fitness_call_no"
   ]
  },
  {
   "cell_type": "code",
   "execution_count": 2,
   "id": "cb8c70b0",
   "metadata": {},
   "outputs": [],
   "source": [
    "# Precision - The percentage of samples which are withing D of performance boundaries\n",
    "def cal_precision(delta, test_suite_performance_modes, test_suite_performance_boundaries_distances, candidate_performance_mode=None):\n",
    "    \"\"\"\n",
    "    cal_precision computes total number of test data that were at a certain distance from the boundary\n",
    "    divided by the total number of test data that were sent to the fitness function.\n",
    "    \n",
    "    :param delta: describe a certain distance from the boundary\n",
    "    :param test_suite_performance_modes: list of class labels, 0 for out-of-domain and 1 for in-domain\n",
    "    :param test_suite_performance_boundaries_distances: list of branch distance\n",
    "    :param candidate_performance_mode: precision will be computed for this performance_mode,\n",
    "        None value means that all performance modes must be used\n",
    "        \n",
    "    :return: precision percentage\n",
    "    \"\"\" \n",
    "    if candidate_performance_mode is None:\n",
    "        precision_list = []\n",
    "        for mode in range(max(test_suite_performance_modes) + 1):\n",
    "            if mode not in test_suite_performance_modes:\n",
    "                precision_list.append(0)\n",
    "                continue\n",
    "            else:\n",
    "                candidate_performance_mode = mode\n",
    "                boundry_points, fitness_call_no = select_boundry_points(delta, test_suite_performance_modes, test_suite_performance_boundaries_distances, candidate_performance_mode)\n",
    "                precision = (len(boundry_points) / fitness_call_no) * 100\n",
    "                precision_list.append(precision)\n",
    "        return precision_list\n",
    "    else:\n",
    "        boundry_points, fitness_call_no = select_boundry_points(delta, test_suite_performance_modes, test_suite_performance_boundaries_distances, candidate_performance_mode)\n",
    "        precision = (len(boundry_points) / fitness_call_no) * 100\n",
    "        return precision"
   ]
  },
  {
   "cell_type": "code",
   "execution_count": 3,
   "id": "91e76530",
   "metadata": {},
   "outputs": [],
   "source": [
    "# convergence - The amount of queries necessary to acquire samples on all performance boundaries\n",
    "def cal_convergence(delta, test_suite_performance_modes, test_suite_performance_boundaries_distances, candidate_performance_mode=None):\n",
    "    \"\"\"\n",
    "    cal_convergence computes total number of test data that were sent to the fitness function minus\n",
    "    the number of test data that were at a certain distance from the boundary.\n",
    "    \n",
    "    :param delta: describe a certain distance from the boundary\n",
    "    :param test_suite_performance_modes: list of class labels, 0 for out-of-domain and 1 for in-domain\n",
    "    :param test_suite_performance_boundaries_distances: list of branch distance\n",
    "    :param candidate_performance_mode: precision will be computed for this performance_mode,\n",
    "        None value means that all performance modes must be used\n",
    "        \n",
    "    :return: convergence\n",
    "    \"\"\" \n",
    "    if candidate_performance_mode is None:\n",
    "        convergence_list = []\n",
    "        for mode in range(max(test_suite_performance_modes) + 1):\n",
    "            if mode not in test_suite_performance_modes:\n",
    "                precision_list.append(0)\n",
    "                continue\n",
    "            else:\n",
    "                candidate_performance_mode = mode\n",
    "                boundry_points, fitness_call_no = select_boundry_points(delta, test_suite_performance_modes, test_suite_performance_boundaries_distances, candidate_performance_mode)\n",
    "                convergence = fitness_call_no - len(boundry_points)\n",
    "                convergence_list.append(convergence)\n",
    "        return convergence_list\n",
    "    else:\n",
    "        boundry_points, fitness_call_no = select_boundry_points(delta, test_suite_performance_modes, test_suite_performance_boundaries_distances, candidate_performance_mode)\n",
    "        convergence = fitness_call_no - len(boundry_points)\n",
    "        return convergence"
   ]
  },
  {
   "cell_type": "code",
   "execution_count": 4,
   "id": "c4614dfd",
   "metadata": {},
   "outputs": [],
   "source": [
    "#  Resolution - The distance of the samples from the nearest performance boundary\n",
    "def cal_resolution(baseline_test_suite_performance_boundaries_distances, test_suite_performance_boundaries_distances):\n",
    "    \"\"\"\n",
    "    cal_resolution computes the average distance of each test data produced by the proposed method\n",
    "    from the closest sample of the base method.\n",
    "    \n",
    "    :param baseline_test_suite_performance_boundaries_distances : list of branch distance using baseline method\n",
    "    :param test_suite_performance_boundaries_distances: list of branch distance using proposed method\n",
    "        \n",
    "    :return: resolution\n",
    "    \"\"\" \n",
    "    min_point = min(baseline_test_suite_performance_boundaries_distances)\n",
    "    distance_list = [(point - min_point) for point in test_suite_performance_boundaries_distances]\n",
    "    avg_distance = sum(distance_list) / len(distance_list)\n",
    "    return avg_distance"
   ]
  },
  {
   "cell_type": "markdown",
   "id": "1b18c8d6",
   "metadata": {},
   "source": [
    "Diversity: We define diversity objective as the ability to find representative scenarios from all the performance boundaries of\n",
    "the SUT. This means sampling uniformly across the entire region where the performance boundary occurs as well as achieving even distributions amongst all performance boundaries. We measure this using the following metrics:\n",
    "\n",
    "Coverage - The percentage of the performance boundary regions that have been sampled.\n",
    "\n",
    "Class distribution - The distribution of samples from the different performance modes.\n",
    "\n",
    "Boundary distribution - The distribution of samples from the different performance boundary types.\n"
   ]
  },
  {
   "cell_type": "code",
   "execution_count": null,
   "id": "95d55adc-f6ef-4738-a5a2-fd64c8b1dde0",
   "metadata": {},
   "outputs": [],
   "source": [
    "def train_cluster_model(test_suite_performance_boundaries_distances):\n",
    "    \"\"\"\n",
    "    Clustering process with the data generated by the proposed method\n",
    "    \"\"\"\n",
    "    clusterModel=None\n",
    "    \n",
    "    # process...\n",
    "    #clusterModel=ClusterModel(test_suite_performance_boundaries_distances)\n",
    "    \n",
    "    return clusterModel\n",
    "  "
   ]
  },
  {
   "cell_type": "code",
   "execution_count": null,
   "id": "113a7e16-b699-4903-b993-26966ae8733a",
   "metadata": {},
   "outputs": [],
   "source": [
    "def cluster_method(baseline_test_suite_performance_boundaries_distances,baseline_test_suite_performance_modes):\n",
    "    baseline_cluster_list=[]\n",
    "    \"\"\"\n",
    "    Calculation of clusters with generated data and their labels\n",
    "    \"\"\"\n",
    "    # process...\n",
    "    \n",
    "     return baseline_cluster_list\n",
    "    \n",
    "    "
   ]
  },
  {
   "cell_type": "code",
   "execution_count": 2,
   "id": "0098aeda",
   "metadata": {},
   "outputs": [],
   "source": [
    "# Coverage - The percentage of the performance boundary re- gions that have been sampled.\n",
    "def cal_coverage(baseline_test_suite_performance_boundaries_distances,baseline_test_suite_performance_modes, test_suite_performance_boundaries_distances,candidate_performance_mode):\n",
    "    \"\"\"\n",
    "    \n",
    "    \n",
    "    :param baseline_test_suite_performance_boundaries_distances : list of branch distance using baseline method\n",
    "    :param baseline_test_suite_performance_modes: list of class labels\n",
    "    :param test_suite_performance_boundaries_distances: list of branch distance\n",
    "    :param candidate_performance_mode: precision will be computed for this performance_mode\n",
    "        \n",
    "    :return: coverage\n",
    "    \"\"\" \n",
    "    baseline_cluster_list=[]\n",
    "    correct_prediction_clusters=[]\n",
    "    \n",
    "    baseline_cluster_list=cluster_method(baseline_test_suite_performance_boundaries_distances,baseline_test_suite_performance_modes)\n",
    "    clusterModel=train_cluster_model(test_suite_performance_boundaries_distances)            \n",
    "    \n",
    "    for cluster in baseline_cluster_list:\n",
    "        boundry_points, fitness_call_no = select_boundry_points(delta, baseline_test_suite_performance_modes, baseline_test_suite_performance_boundaries_distances, candidate_performance_mode)\n",
    "        cluster_predicted=clusterModel.predict(boundry_points)\n",
    "        if cluster_predicted==cluster:\n",
    "            correct_prediction_clusters.append(cluster_predicted)\n",
    "    \n",
    "    coverage=(len(correct_prediction_clusters)/len(baseline_cluster_list))*100\n",
    "    return coverage\n",
    "        \n",
    "        \n",
    "        "
   ]
  },
  {
   "cell_type": "code",
   "execution_count": null,
   "id": "f7dc8c30-6567-4b84-a67a-5f89255febec",
   "metadata": {},
   "outputs": [],
   "source": [
    "# Class distribution - The distribution of samples from the different performance modes.\n",
    "def cal_class_distribution(test_suite_performance_modes):\n",
    "    \"\"\"\n",
    "\n",
    "    :param test_suite_performance_modes: list of class labels, 0 for out-of-domain and 1 for in-domain\n",
    "    \n",
    "    :return: class_distribution\n",
    "    \"\"\" \n",
    "    num_zeros = test_suite_performance_modes.count(0)\n",
    "    num_ones = test_suite_performance_modes.count(1)\n",
    "\n",
    "    total = len(test_suite_performance_modes)\n",
    "\n",
    "    percent_out_of_domain = (num_zeros / total) * 100\n",
    "    percent_in_domain = (num_ones / total) * 100\n",
    "    \n",
    "    print(\"Percentage of out of domain:\", percent_out_of_domain)\n",
    "    print(\"Percentage of in domain:\", percent_in_domain)\n",
    "    \n",
    "    return percent_in_domain,percent_out_of_domain"
   ]
  },
  {
   "cell_type": "code",
   "execution_count": null,
   "id": "055625e7-f6cb-4e45-933a-bc574355601e",
   "metadata": {},
   "outputs": [],
   "source": []
  }
 ],
 "metadata": {
  "kernelspec": {
   "display_name": "Python 3 (ipykernel)",
   "language": "python",
   "name": "python3"
  },
  "language_info": {
   "codemirror_mode": {
    "name": "ipython",
    "version": 3
   },
   "file_extension": ".py",
   "mimetype": "text/x-python",
   "name": "python",
   "nbconvert_exporter": "python",
   "pygments_lexer": "ipython3",
   "version": "3.10.0"
  }
 },
 "nbformat": 4,
 "nbformat_minor": 5
}
